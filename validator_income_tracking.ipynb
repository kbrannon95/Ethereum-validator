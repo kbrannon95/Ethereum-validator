{
 "cells": [
  {
   "cell_type": "code",
   "execution_count": 1,
   "id": "ffc28f17",
   "metadata": {},
   "outputs": [],
   "source": [
    "import pandas as pd\n",
    "import numpy as np\n",
    "import requests\n",
    "import matplotlib.pyplot as plt\n",
    "import seaborn as sns"
   ]
  },
  {
   "cell_type": "code",
   "execution_count": 2,
   "id": "2da1347b",
   "metadata": {},
   "outputs": [],
   "source": [
    "#Beaconcha.in explorer api-key found in your account settings\n",
    "eth_api_key = 'NmVSM2x3S3BUNFNsSnhvOFgxdFN1'\n",
    "\n",
    "#validator indexes of validators you wish to follow\n",
    "validator_ids = ['310494', '356165', '356169','410931']"
   ]
  },
  {
   "cell_type": "code",
   "execution_count": 3,
   "id": "7919da37",
   "metadata": {},
   "outputs": [],
   "source": [
    "#test Beaconcha.in explorer REST API\n",
    "request_string = 'https://beaconcha.in/api/v1/validator/' + validator_ids[0] + '?apikey=' + eth_api_key\n",
    "r = requests.get(request_string)"
   ]
  },
  {
   "cell_type": "code",
   "execution_count": 4,
   "id": "87e38a48",
   "metadata": {},
   "outputs": [],
   "source": [
    "#inspect results\n",
    "val_data = r.json()"
   ]
  },
  {
   "cell_type": "code",
   "execution_count": 5,
   "id": "fe020ae3",
   "metadata": {},
   "outputs": [
    {
     "name": "stdout",
     "output_type": "stream",
     "text": [
      "{'status': 'OK', 'data': {'activationeligibilityepoch': 104354, 'activationepoch': 104730, 'balance': 32841123550, 'effectivebalance': 32000000000, 'exitepoch': 9223372036854775807, 'lastattestationslot': 4789236, 'name': None, 'pubkey': '0xb12021412d40a255518701b59c75ef4fb87ebbf5fddae629253370b5c68561c6cebc5bdd364689ead2742ecfc0d47ea4', 'slashed': False, 'status': 'active_online', 'validatorindex': 310494, 'withdrawableepoch': 9223372036854775807, 'withdrawalcredentials': '0x00127e0d231f1fdcd1de2ed59ea0b87c5c18db6ddbee25aaa24137d6c85761c1'}}\n"
     ]
    }
   ],
   "source": [
    "#inspect json file\n",
    "print(val_data)"
   ]
  },
  {
   "cell_type": "code",
   "execution_count": 6,
   "id": "bc6b7078",
   "metadata": {},
   "outputs": [
    {
     "name": "stdout",
     "output_type": "stream",
     "text": [
      "32841123550\n"
     ]
    }
   ],
   "source": [
    "print(val_data['data']['balance'])"
   ]
  },
  {
   "cell_type": "markdown",
   "id": "19f63542",
   "metadata": {},
   "source": [
    "#### We now see how to extract the data we want from the JSON file returned from the API call \n",
    "#### Next, we will loop through all validators and calculate earnings to date"
   ]
  },
  {
   "cell_type": "code",
   "execution_count": 7,
   "id": "2b775072",
   "metadata": {},
   "outputs": [],
   "source": [
    "#calculate the earnings to date for each validator\n",
    "validator_earnings = {}\n",
    "for val_id in validator_ids:\n",
    "    #create request string\n",
    "    request_string = 'https://beaconcha.in/api/v1/validator/' + val_id + '?apikey=' + eth_api_key\n",
    "    \n",
    "    #make API call\n",
    "    r = requests.get(request_string)\n",
    "    \n",
    "    #extract data from request\n",
    "    val_data = r.json()\n",
    "    \n",
    "    #calculate the lifetime earnings in ETH\n",
    "    val_earn = val_data['data']['balance']/1000000000 - 32\n",
    "    \n",
    "    #append earnings\n",
    "    validator_earnings[val_id] = val_earn"
   ]
  },
  {
   "cell_type": "code",
   "execution_count": 8,
   "id": "4bd1a218",
   "metadata": {},
   "outputs": [
    {
     "name": "stdout",
     "output_type": "stream",
     "text": [
      "{'310494': 0.8411235499999989, '356165': 0.5168724299999994, '356169': 0.6544393089999971, '410931': 0.23579301899999905}\n"
     ]
    }
   ],
   "source": [
    "#check to make sure validator earnings look accurate\n",
    "print(validator_earnings)"
   ]
  },
  {
   "cell_type": "markdown",
   "id": "ae00496b",
   "metadata": {},
   "source": [
    "#### Now that we have earning for all of the validators, we will calculate the fees taking by stake pool operator (10%) and then calcuate the ETH balance for all validator stakers"
   ]
  },
  {
   "cell_type": "code",
   "execution_count": 9,
   "id": "cda293a5",
   "metadata": {},
   "outputs": [],
   "source": [
    "#list of stake pool contributers\n",
    "stakers_list = ['Mr. Lites','Dr. Hutchinson','Matt','Nader','Kairn']\n",
    "\n",
    "#add amount of stake for each contributer per validator \n",
    "ownership = {validator_ids[0]:{'Mr. Lites':32}, \n",
    "             validator_ids[1]:{'Mr. Lites':32}, \n",
    "             validator_ids[2]:{'Dr. Hutchinson':32},\n",
    "             validator_ids[3]:{'Mr. Lites':10,'Matt':14,'Nader':4,'Kairn':4}}"
   ]
  },
  {
   "cell_type": "code",
   "execution_count": 10,
   "id": "ab2b90ea",
   "metadata": {},
   "outputs": [
    {
     "name": "stdout",
     "output_type": "stream",
     "text": [
      "Pool operater earnings: 0.22482283079999946\n",
      "Pool participant earnings: 2.023405477199995\n"
     ]
    }
   ],
   "source": [
    "#calculate stake operater earnings \n",
    "pool_operator_earnings = sum(validator_earnings.values()) * 0.1\n",
    "print('Pool operater earnings: ' + str(pool_operator_earnings))\n",
    "\n",
    "#calculate earnings to be split amongst stakers\n",
    "pool_participant_earnings = sum(validator_earnings.values()) - pool_operator_earnings\n",
    "print('Pool participant earnings: ' + str(pool_participant_earnings))\n"
   ]
  },
  {
   "cell_type": "code",
   "execution_count": 11,
   "id": "d522a328",
   "metadata": {},
   "outputs": [],
   "source": [
    "#calulate the balance after fees of each staker\n",
    "\n",
    "#first we will loop through our stakers\n",
    "eth_balance = {}\n",
    "for staker in stakers_list:\n",
    "    \n",
    "    #check to see if staker is an owner in each validator. If so, extract their initial eth stake\n",
    "    total_eth = 0\n",
    "    for validator in ownership:\n",
    "        if staker in ownership[validator]:\n",
    "            initial_stake = ownership[validator][staker]\n",
    "            stake_percentage = initial_stake/32\n",
    "            earnings_share = stake_percentage * validator_earnings[validator] * 0.9\n",
    "            val_balance = earnings_share + initial_stake\n",
    "            total_eth = total_eth + val_balance\n",
    "    eth_balance[staker] = total_eth"
   ]
  },
  {
   "cell_type": "code",
   "execution_count": 12,
   "id": "2e12bf30",
   "metadata": {},
   "outputs": [
    {
     "name": "stdout",
     "output_type": "stream",
     "text": [
      "130.248228308\n"
     ]
    }
   ],
   "source": [
    "#sanity check the results\n",
    "check1 = sum(eth_balance.values()) + pool_operator_earnings\n",
    "print(check1)"
   ]
  },
  {
   "cell_type": "code",
   "execution_count": 13,
   "id": "b5e48e6a",
   "metadata": {},
   "outputs": [
    {
     "name": "stdout",
     "output_type": "stream",
     "text": [
      "130.248228308\n"
     ]
    }
   ],
   "source": [
    "check2 = 4 * 32 + sum(validator_earnings.values())\n",
    "print(check2)"
   ]
  },
  {
   "cell_type": "code",
   "execution_count": 14,
   "id": "581a685d",
   "metadata": {},
   "outputs": [
    {
     "name": "stdout",
     "output_type": "stream",
     "text": [
      "Mr. Lites : 75.28851316859374\n",
      "Dr. Hutchinson : 32.588995378099995\n",
      "Matt : 14.09284350123125\n",
      "Nader : 4.0265267146375\n",
      "Kairn : 4.0265267146375\n"
     ]
    }
   ],
   "source": [
    "for eth_staker in eth_balance:\n",
    "    print(eth_staker + ' : ' + str(eth_balance[eth_staker]))"
   ]
  },
  {
   "cell_type": "markdown",
   "id": "98183d89",
   "metadata": {},
   "source": [
    "### Next Steps\n",
    "#### Factor in the price of ETH and show dollar amounts\n",
    "#### Make this run on terminal \n",
    "#### Use flask to create dashboard \n",
    "#### Dockerize"
   ]
  },
  {
   "cell_type": "code",
   "execution_count": 15,
   "id": "60c069fa",
   "metadata": {},
   "outputs": [
    {
     "name": "stdout",
     "output_type": "stream",
     "text": [
      "1353.13\n"
     ]
    }
   ],
   "source": [
    "#make call to Binance API for ETH_price\n",
    "price_request_string = \"https://api.binance.com/api/v3/ticker/price?symbol=ETHUSDT\"\n",
    "\n",
    "r2 = requests.get(price_request_string)\n",
    "\n",
    "data = r2.json()\n",
    "\n",
    "eth_price = float(data['price'])\n",
    "print(eth_price)"
   ]
  },
  {
   "cell_type": "code",
   "execution_count": 16,
   "id": "e687c2ca",
   "metadata": {},
   "outputs": [
    {
     "name": "stdout",
     "output_type": "stream",
     "text": [
      "{'Mr. Lites': 101875.14582381926, 'Dr. Hutchinson': 44097.14731596845, 'Matt': 19069.449326821043, 'Nader': 5448.414093377441, 'Kairn': 5448.414093377441}\n"
     ]
    }
   ],
   "source": [
    "#calculate usd balance\n",
    "usd_balance = {}\n",
    "for staker in eth_balance:\n",
    "    usd = eth_balance[staker] * eth_price\n",
    "    usd_balance[staker] = usd\n",
    "print(usd_balance)"
   ]
  },
  {
   "cell_type": "code",
   "execution_count": 17,
   "id": "0d507b84",
   "metadata": {},
   "outputs": [
    {
     "data": {
      "text/plain": [
       "1353.13"
      ]
     },
     "execution_count": 17,
     "metadata": {},
     "output_type": "execute_result"
    }
   ],
   "source": [
    "eth_price"
   ]
  },
  {
   "cell_type": "code",
   "execution_count": null,
   "id": "a937b0fc",
   "metadata": {},
   "outputs": [],
   "source": []
  }
 ],
 "metadata": {
  "kernelspec": {
   "display_name": "Python 3 (ipykernel)",
   "language": "python",
   "name": "python3"
  },
  "language_info": {
   "codemirror_mode": {
    "name": "ipython",
    "version": 3
   },
   "file_extension": ".py",
   "mimetype": "text/x-python",
   "name": "python",
   "nbconvert_exporter": "python",
   "pygments_lexer": "ipython3",
   "version": "3.9.12"
  }
 },
 "nbformat": 4,
 "nbformat_minor": 5
}
